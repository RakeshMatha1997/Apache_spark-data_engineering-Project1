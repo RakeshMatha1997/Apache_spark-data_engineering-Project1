{
 "cells": [
  {
   "cell_type": "code",
   "execution_count": 65,
   "id": "4fd7e5a3-690c-4f21-9d69-d39f6131d079",
   "metadata": {},
   "outputs": [],
   "source": [
    "from pyspark.sql import SparkSession\n",
    "from pyspark.sql.functions import *\n",
    "from pyspark.sql import functions as F\n",
    "\n",
    "spark= SparkSession.builder.appName(\"appledataanalysis\").getOrCreate()"
   ]
  },
  {
   "cell_type": "code",
   "execution_count": 3,
   "id": "f3ef010f-28eb-4f2e-89bf-ef6be3654650",
   "metadata": {},
   "outputs": [
    {
     "data": {
      "text/html": [
       "\n",
       "            <div>\n",
       "                <p><b>SparkSession - in-memory</b></p>\n",
       "                \n",
       "        <div>\n",
       "            <p><b>SparkContext</b></p>\n",
       "\n",
       "            <p><a href=\"http://bdafb2c431f7:4040\">Spark UI</a></p>\n",
       "\n",
       "            <dl>\n",
       "              <dt>Version</dt>\n",
       "                <dd><code>v3.5.0</code></dd>\n",
       "              <dt>Master</dt>\n",
       "                <dd><code>local[*]</code></dd>\n",
       "              <dt>AppName</dt>\n",
       "                <dd><code>appledataanalysis</code></dd>\n",
       "            </dl>\n",
       "        </div>\n",
       "        \n",
       "            </div>\n",
       "        "
      ],
      "text/plain": [
       "<pyspark.sql.session.SparkSession at 0x7f2d38180a50>"
      ]
     },
     "execution_count": 3,
     "metadata": {},
     "output_type": "execute_result"
    }
   ],
   "source": [
    "spark"
   ]
  },
  {
   "cell_type": "code",
   "execution_count": 4,
   "id": "52dd3c8b-b7a9-4a60-aedf-9118c77a8f5e",
   "metadata": {},
   "outputs": [],
   "source": [
    "df= spark.read.format(\"csv\").option(\"header\",\"true\").option(\"inferSchema\",\"true\").load(\"apache-spark-with-data-bricks-for-data-engineering-main/data/apple_data/apple_products.csv\")"
   ]
  },
  {
   "cell_type": "code",
   "execution_count": 5,
   "id": "55789c5f-2c91-492a-9c66-fce249c4cc74",
   "metadata": {},
   "outputs": [
    {
     "name": "stdout",
     "output_type": "stream",
     "text": [
      "+--------------------+--------------------+-----+----------+-----+-------------------+-----------------+-----------------+----------------+-----------+----+\n",
      "|        Product Name|         Product URL|Brand|Sale Price|  Mrp|Discount Percentage|Number Of Ratings|Number Of Reviews|             Upc|Star Rating| Ram|\n",
      "+--------------------+--------------------+-----+----------+-----+-------------------+-----------------+-----------------+----------------+-----------+----+\n",
      "|APPLE iPhone 8 Pl...|https://www.flipk...|Apple|     49900|49900|                  0|             3431|              356|MOBEXRGV7EHHTGUH|        4.6|2 GB|\n",
      "|APPLE iPhone 8 Pl...|https://www.flipk...|Apple|     84900|84900|                  0|             3431|              356|MOBEXRGVAC6TJT4F|        4.6|2 GB|\n",
      "|APPLE iPhone 8 Pl...|https://www.flipk...|Apple|     84900|84900|                  0|             3431|              356|MOBEXRGVGETABXWZ|        4.6|2 GB|\n",
      "|APPLE iPhone 8 (S...|https://www.flipk...|Apple|     77000|77000|                  0|            11202|              794|MOBEXRGVMZWUHCBA|        4.5|2 GB|\n",
      "|APPLE iPhone 8 (G...|https://www.flipk...|Apple|     77000|77000|                  0|            11202|              794|MOBEXRGVPK7PFEJZ|        4.5|2 GB|\n",
      "+--------------------+--------------------+-----+----------+-----+-------------------+-----------------+-----------------+----------------+-----------+----+\n",
      "only showing top 5 rows\n",
      "\n"
     ]
    }
   ],
   "source": [
    "df.show(5)"
   ]
  },
  {
   "cell_type": "code",
   "execution_count": 9,
   "id": "e349da11-e839-4a52-97ca-379477f546cd",
   "metadata": {},
   "outputs": [
    {
     "name": "stdout",
     "output_type": "stream",
     "text": [
      "root\n",
      " |-- Product Name: string (nullable = true)\n",
      " |-- Product URL: string (nullable = true)\n",
      " |-- Brand: string (nullable = true)\n",
      " |-- Sale Price: integer (nullable = true)\n",
      " |-- Mrp: integer (nullable = true)\n",
      " |-- Discount Percentage: integer (nullable = true)\n",
      " |-- Number Of Ratings: integer (nullable = true)\n",
      " |-- Number Of Reviews: integer (nullable = true)\n",
      " |-- Upc: string (nullable = true)\n",
      " |-- Star Rating: double (nullable = true)\n",
      " |-- Ram: string (nullable = true)\n",
      "\n"
     ]
    }
   ],
   "source": [
    "df.printSchema()"
   ]
  },
  {
   "cell_type": "code",
   "execution_count": 11,
   "id": "480f1a11-c8b4-4473-a14a-fe306e0a477b",
   "metadata": {},
   "outputs": [
    {
     "data": {
      "text/plain": [
       "62"
      ]
     },
     "execution_count": 11,
     "metadata": {},
     "output_type": "execute_result"
    }
   ],
   "source": [
    "df.count()"
   ]
  },
  {
   "cell_type": "code",
   "execution_count": 12,
   "id": "5b47c734-e9e4-43a8-bfc4-801d462f3e8d",
   "metadata": {},
   "outputs": [
    {
     "name": "stdout",
     "output_type": "stream",
     "text": [
      "+--------------------+------+\n",
      "|        Product Name|   Mrp|\n",
      "+--------------------+------+\n",
      "|APPLE iPhone 8 Pl...| 49900|\n",
      "|APPLE iPhone 8 Pl...| 84900|\n",
      "|APPLE iPhone 8 Pl...| 84900|\n",
      "|APPLE iPhone 8 (S...| 77000|\n",
      "|APPLE iPhone 8 (G...| 77000|\n",
      "|APPLE iPhone 8 Pl...| 49900|\n",
      "|APPLE iPhone 8 Pl...| 49900|\n",
      "|APPLE iPhone 8 (S...| 77000|\n",
      "|APPLE iPhone XS M...| 89900|\n",
      "|Apple iPhone XR (...| 52900|\n",
      "|Apple iPhone XR (...| 47900|\n",
      "|Apple iPhone XR (...| 52900|\n",
      "|Apple iPhone XR (...| 52900|\n",
      "|Apple iPhone XR (...| 52900|\n",
      "|APPLE iPhone 11 P...|131900|\n",
      "|APPLE iPhone 11 P...|117100|\n",
      "|APPLE iPhone 11 P...|131900|\n",
      "|APPLE iPhone 11 P...|117100|\n",
      "|APPLE iPhone 11 P...|106600|\n",
      "|APPLE iPhone 11 P...|140300|\n",
      "+--------------------+------+\n",
      "only showing top 20 rows\n",
      "\n"
     ]
    }
   ],
   "source": [
    "df.select(\"Product Name\",\"Mrp\").show()"
   ]
  },
  {
   "cell_type": "code",
   "execution_count": 18,
   "id": "77299ecf-aba9-419f-b5eb-c6848bc2585c",
   "metadata": {},
   "outputs": [
    {
     "name": "stdout",
     "output_type": "stream",
     "text": [
      "+--------------------+------+--------+\n",
      "|        Product Name|   Mrp|max(Mrp)|\n",
      "+--------------------+------+--------+\n",
      "|APPLE iPhone 8 Pl...| 49900|   49900|\n",
      "|APPLE iPhone 8 Pl...| 49900|   49900|\n",
      "|APPLE iPhone 8 Pl...| 49900|   49900|\n",
      "|APPLE iPhone 12 M...| 74900|   74900|\n",
      "|APPLE iPhone 12 P...|139900|  139900|\n",
      "|APPLE iPhone 8 (S...| 77000|   77000|\n",
      "|APPLE iPhone 11 (...| 54900|   54900|\n",
      "|APPLE iPhone 11 P...|117100|  117100|\n",
      "|APPLE iPhone 12 P...|149900|  149900|\n",
      "|Apple iPhone XR (...| 52900|   52900|\n",
      "|APPLE iPhone 11 (...| 54900|   54900|\n",
      "|APPLE iPhone SE (...| 39900|   39900|\n",
      "|APPLE iPhone 11 (...| 54900|   54900|\n",
      "|APPLE iPhone SE (...| 44900|   44900|\n",
      "|APPLE iPhone 8 (G...| 77000|   77000|\n",
      "|APPLE iPhone 12 (...| 84900|   84900|\n",
      "|APPLE iPhone 11 P...|131900|  131900|\n",
      "|APPLE iPhone 12 P...|129900|  129900|\n",
      "|APPLE iPhone 11 P...|121300|  121300|\n",
      "|APPLE iPhone 12 M...| 69900|   69900|\n",
      "+--------------------+------+--------+\n",
      "only showing top 20 rows\n",
      "\n"
     ]
    }
   ],
   "source": [
    "df.groupBy(\"Product Name\",\"Mrp\").agg(max(col(\"Mrp\"))).show()"
   ]
  },
  {
   "cell_type": "code",
   "execution_count": 20,
   "id": "4f1ae30e-67f0-486f-9baa-eb0391874554",
   "metadata": {},
   "outputs": [
    {
     "name": "stdout",
     "output_type": "stream",
     "text": [
      "+--------+\n",
      "|max(Mrp)|\n",
      "+--------+\n",
      "|  149900|\n",
      "+--------+\n",
      "\n"
     ]
    }
   ],
   "source": [
    "df.select(max(col(\"Mrp\"))).show()"
   ]
  },
  {
   "cell_type": "code",
   "execution_count": 23,
   "id": "5d996d4a-59bc-4b60-b41d-d1837dab79cf",
   "metadata": {},
   "outputs": [
    {
     "name": "stdout",
     "output_type": "stream",
     "text": [
      "+--------------------+--------------------+-----+----------+------+-------------------+-----------------+-----------------+----------------+-----------+----+\n",
      "|        Product Name|         Product URL|Brand|Sale Price|   Mrp|Discount Percentage|Number Of Ratings|Number Of Reviews|             Upc|Star Rating| Ram|\n",
      "+--------------------+--------------------+-----+----------+------+-------------------+-----------------+-----------------+----------------+-----------+----+\n",
      "|APPLE iPhone 12 P...|https://www.flipk...|Apple|    140900|149900|                  6|              542|               42|MOBFWBYZ5UY6ZBVA|        4.5|4 GB|\n",
      "|APPLE iPhone 12 P...|https://www.flipk...|Apple|    140900|149900|                  6|              545|               42|MOBFWBYZTHSXKMGW|        4.5|4 GB|\n",
      "+--------------------+--------------------+-----+----------+------+-------------------+-----------------+-----------------+----------------+-----------+----+\n",
      "\n"
     ]
    }
   ],
   "source": [
    "df.filter(\"Mrp=149900\").show()"
   ]
  },
  {
   "cell_type": "code",
   "execution_count": 25,
   "id": "99319c99-a210-404d-b1ae-129c684fee3b",
   "metadata": {},
   "outputs": [],
   "source": [
    "df.createOrReplaceTempView(\"appletable1\")"
   ]
  },
  {
   "cell_type": "code",
   "execution_count": 29,
   "id": "aea883a8-f2fb-4108-a820-fd782c01bf83",
   "metadata": {},
   "outputs": [
    {
     "name": "stdout",
     "output_type": "stream",
     "text": [
      "+--------------------+--------------------+-----+----------+-----+-------------------+-----------------+-----------------+----------------+-----------+----+\n",
      "|        Product Name|         Product URL|Brand|Sale Price|  Mrp|Discount Percentage|Number Of Ratings|Number Of Reviews|             Upc|Star Rating| Ram|\n",
      "+--------------------+--------------------+-----+----------+-----+-------------------+-----------------+-----------------+----------------+-----------+----+\n",
      "|APPLE iPhone 8 Pl...|https://www.flipk...|Apple|     49900|49900|                  0|             3431|              356|MOBEXRGV7EHHTGUH|        4.6|2 GB|\n",
      "|APPLE iPhone 8 Pl...|https://www.flipk...|Apple|     84900|84900|                  0|             3431|              356|MOBEXRGVAC6TJT4F|        4.6|2 GB|\n",
      "|APPLE iPhone 8 Pl...|https://www.flipk...|Apple|     84900|84900|                  0|             3431|              356|MOBEXRGVGETABXWZ|        4.6|2 GB|\n",
      "|APPLE iPhone 8 (S...|https://www.flipk...|Apple|     77000|77000|                  0|            11202|              794|MOBEXRGVMZWUHCBA|        4.5|2 GB|\n",
      "|APPLE iPhone 8 (G...|https://www.flipk...|Apple|     77000|77000|                  0|            11202|              794|MOBEXRGVPK7PFEJZ|        4.5|2 GB|\n",
      "+--------------------+--------------------+-----+----------+-----+-------------------+-----------------+-----------------+----------------+-----------+----+\n",
      "\n"
     ]
    }
   ],
   "source": [
    "spark.sql(\"select * from appletable1 limit 5\").show()"
   ]
  },
  {
   "cell_type": "code",
   "execution_count": 40,
   "id": "80ed0ac9-2e5a-4baa-aef7-4440ea50aa04",
   "metadata": {},
   "outputs": [
    {
     "name": "stdout",
     "output_type": "stream",
     "text": [
      "+------------+-------+\n",
      "|Product Name|max_mrp|\n",
      "+------------+-------+\n",
      "|Product Name| 149900|\n",
      "+------------+-------+\n",
      "\n"
     ]
    }
   ],
   "source": [
    "spark.sql(\"\"\"select \"Product Name\", max(MRP) as max_mrp from appletable1 group by 'Product Name'\"\"\").show()"
   ]
  },
  {
   "cell_type": "code",
   "execution_count": 91,
   "id": "9b9a5c1d-6aec-4afd-b240-7aede137a753",
   "metadata": {},
   "outputs": [],
   "source": [
    "\n",
    "modified_df = df.withColumn(\"discount\",col(\"Mrp\")*0.2)\\\n",
    ".select(\"Product Name\",\"Mrp\",\"discount\")\\\n",
    ".withColumn(\"Total_price\",col(\"Mrp\")-col(\"discount\"))\\\n",
    ".withColumn(\"Mobile_name\",F.split(F.col(\"Product Name\"), r'\\s\\(').getItem(0))\\\n",
    ".orderBy(col(\"Total_price\").asc())"
   ]
  },
  {
   "cell_type": "code",
   "execution_count": 112,
   "id": "740323d5-368a-47d6-9204-dce6d6618b82",
   "metadata": {},
   "outputs": [
    {
     "name": "stdout",
     "output_type": "stream",
     "text": [
      "+--------------------+-----+--------+-----------+-------------------+\n",
      "|        Product Name|  Mrp|discount|Total_price|        Mobile_name|\n",
      "+--------------------+-----+--------+-----------+-------------------+\n",
      "|APPLE iPhone SE (...|39900|  7980.0|    31920.0|    APPLE iPhone SE|\n",
      "|APPLE iPhone SE (...|39900|  7980.0|    31920.0|    APPLE iPhone SE|\n",
      "|APPLE iPhone SE (...|44900|  8980.0|    35920.0|    APPLE iPhone SE|\n",
      "|APPLE iPhone SE (...|44900|  8980.0|    35920.0|    APPLE iPhone SE|\n",
      "|APPLE iPhone SE (...|44900|  8980.0|    35920.0|    APPLE iPhone SE|\n",
      "|Apple iPhone XR (...|47900|  9580.0|    38320.0|    Apple iPhone XR|\n",
      "|APPLE iPhone 8 Pl...|49900|  9980.0|    39920.0|APPLE iPhone 8 Plus|\n",
      "|APPLE iPhone 8 Pl...|49900|  9980.0|    39920.0|APPLE iPhone 8 Plus|\n",
      "|APPLE iPhone 8 Pl...|49900|  9980.0|    39920.0|APPLE iPhone 8 Plus|\n",
      "|Apple iPhone XR (...|52900| 10580.0|    42320.0|    Apple iPhone XR|\n",
      "|Apple iPhone XR (...|52900| 10580.0|    42320.0|    Apple iPhone XR|\n",
      "|Apple iPhone XR (...|52900| 10580.0|    42320.0|    Apple iPhone XR|\n",
      "|Apple iPhone XR (...|52900| 10580.0|    42320.0|    Apple iPhone XR|\n",
      "|Apple iPhone SE (...|54900| 10980.0|    43920.0|    Apple iPhone SE|\n",
      "|APPLE iPhone 11 (...|54900| 10980.0|    43920.0|    APPLE iPhone 11|\n",
      "|APPLE iPhone 11 (...|54900| 10980.0|    43920.0|    APPLE iPhone 11|\n",
      "|APPLE iPhone 11 (...|54900| 10980.0|    43920.0|    APPLE iPhone 11|\n",
      "|APPLE iPhone 11 (...|54900| 10980.0|    43920.0|    APPLE iPhone 11|\n",
      "|APPLE iPhone 11 (...|59900| 11980.0|    47920.0|    APPLE iPhone 11|\n",
      "|APPLE iPhone 11 (...|59900| 11980.0|    47920.0|    APPLE iPhone 11|\n",
      "+--------------------+-----+--------+-----------+-------------------+\n",
      "only showing top 20 rows\n",
      "\n"
     ]
    }
   ],
   "source": [
    "modified_df.show()"
   ]
  },
  {
   "cell_type": "code",
   "execution_count": 113,
   "id": "2cc47849-1ddb-43dc-87c2-e715fff3e93a",
   "metadata": {},
   "outputs": [],
   "source": [
    "modified_df.write.mode(\"overwrite\").csv(\"apache-spark-with-data-bricks-for-data-engineering-main/data/apple_data/output2\")"
   ]
  },
  {
   "cell_type": "code",
   "execution_count": 115,
   "id": "e8e6be81-5d48-42fe-ac77-90a0927112b7",
   "metadata": {},
   "outputs": [],
   "source": [
    "modified_df.write.mode(\"overwrite\").partitionBy(\"Product Name\").csv(\"apache-spark-with-data-bricks-for-data-engineering-main/data/apple_data/output2\")"
   ]
  },
  {
   "cell_type": "code",
   "execution_count": null,
   "id": "90418226-8d4a-48ec-a9b4-413bc98a5eb5",
   "metadata": {},
   "outputs": [],
   "source": []
  },
  {
   "cell_type": "code",
   "execution_count": 80,
   "id": "0f2a611c-c585-456e-b6e0-56012735abc5",
   "metadata": {},
   "outputs": [],
   "source": [
    "first_row = df.select(\"Product Name\").first()\n"
   ]
  },
  {
   "cell_type": "code",
   "execution_count": 81,
   "id": "86e8bb14-4b92-4824-808e-4f27a9cf34d0",
   "metadata": {},
   "outputs": [
    {
     "data": {
      "text/plain": [
       "'APPLE iPhone 8 Plus '"
      ]
     },
     "execution_count": 81,
     "metadata": {},
     "output_type": "execute_result"
    }
   ],
   "source": [
    "df.select(\"Product Name\").first()[0].split('(')[0]"
   ]
  },
  {
   "cell_type": "code",
   "execution_count": 111,
   "id": "a56e4d86-4dc5-477f-ac74-79725520641c",
   "metadata": {},
   "outputs": [],
   "source": [
    "df.write.mode(\"overwrite\") \\\n",
    "    .partitionBy(\"Product Name\") \\\n",
    "    .json(\"apache-spark-with-data-bricks-for-data-engineering-main/data/apple_data/output1\")"
   ]
  },
  {
   "cell_type": "code",
   "execution_count": 109,
   "id": "2f099bb4-50ce-4341-88a0-8686ae6f85bb",
   "metadata": {},
   "outputs": [
    {
     "name": "stdout",
     "output_type": "stream",
     "text": [
      "root\n",
      " |-- Product Name: string (nullable = true)\n",
      " |-- Mrp: integer (nullable = true)\n",
      " |-- discount: double (nullable = true)\n",
      " |-- Total_price: double (nullable = true)\n",
      " |-- Mobile_name: string (nullable = true)\n",
      "\n"
     ]
    }
   ],
   "source": [
    "modified_df.printSchema()"
   ]
  },
  {
   "cell_type": "code",
   "execution_count": null,
   "id": "07015644-fca9-41cf-94e6-b6af3ef7a869",
   "metadata": {},
   "outputs": [],
   "source": []
  },
  {
   "cell_type": "code",
   "execution_count": 44,
   "id": "995d30d8-af2d-4227-9529-108fccd1b1ee",
   "metadata": {},
   "outputs": [
    {
     "name": "stdout",
     "output_type": "stream",
     "text": [
      "APPLE iPhone 8\n"
     ]
    }
   ],
   "source": [
    "# Assuming first_row contains the Row object\n",
    "product_name = first_row['Product Name']\n",
    "\n",
    "# Split the string and join the first two parts\n",
    "extracted_name = ' '.join(product_name.split(' ')[:3])\n",
    "print(extracted_name)"
   ]
  },
  {
   "cell_type": "code",
   "execution_count": null,
   "id": "ce86d639-5ed0-4062-bce5-f201f22d4db6",
   "metadata": {},
   "outputs": [],
   "source": [
    "modified_df.write.mode(\"overwrite\") \\\n",
    "    .partitionBy(\"Mobile_name\") \\\n",
    "    .json(\"apache-spark-with-data-bricks-for-data-engineering-main/data/apple_data/output3\")"
   ]
  },
  {
   "cell_type": "code",
   "execution_count": null,
   "id": "61d4b697-13bb-45bc-9ccb-d8b78d3039b1",
   "metadata": {},
   "outputs": [],
   "source": [
    "modified_df.limit(100).write.mode(\"overwrite\") \\\n",
    "    .partitionBy(\"Mobile_name\") \\\n",
    "    .json(\"apache-spark-with-data-bricks-for-data-engineering-main/data/apple_data/test_output\")"
   ]
  },
  {
   "cell_type": "code",
   "execution_count": null,
   "id": "782b9be2-9f2c-4801-800e-4b8d97eabb35",
   "metadata": {},
   "outputs": [],
   "source": [
    "import shutil\n",
    "\n",
    "\n",
    "# Remove existing output directory if it exists\n",
    "shutil.rmtree(\"apache-spark-with-data-bricks-for-data-engineering-main/data/apple_data/output2\", ignore_errors=True)\n",
    "\n",
    "# Write DataFrame as JSON\n",
    "modified_df.write.mode(\"overwrite\") \\\n",
    "    .partitionBy(\"Mobile_name\") \\\n",
    "    .json(\"apache-spark-with-data-bricks-for-data-engineering-main/data/apple_data/output2\")"
   ]
  },
  {
   "cell_type": "code",
   "execution_count": null,
   "id": "0ecfacb1-b517-4774-bd9d-5513f3ac2249",
   "metadata": {},
   "outputs": [],
   "source": []
  },
  {
   "cell_type": "code",
   "execution_count": null,
   "id": "38d77641-5d3a-4e8e-be81-86573d844cd8",
   "metadata": {},
   "outputs": [],
   "source": []
  },
  {
   "cell_type": "code",
   "execution_count": null,
   "id": "3077f8d1-dc05-4866-adad-81fb7edbffd2",
   "metadata": {},
   "outputs": [],
   "source": []
  },
  {
   "cell_type": "code",
   "execution_count": null,
   "id": "e0c8df9f-f87d-40d3-9c29-e80fac67f112",
   "metadata": {},
   "outputs": [],
   "source": []
  },
  {
   "cell_type": "code",
   "execution_count": null,
   "id": "11037954-35d2-4fed-a057-3feb1417ed42",
   "metadata": {},
   "outputs": [],
   "source": []
  },
  {
   "cell_type": "code",
   "execution_count": null,
   "id": "d2cb81c6-5307-4491-a8a3-7b7753b84244",
   "metadata": {},
   "outputs": [],
   "source": []
  },
  {
   "cell_type": "code",
   "execution_count": null,
   "id": "5a48d6ac-aab9-4623-8c33-1d87fbd8f311",
   "metadata": {},
   "outputs": [],
   "source": []
  },
  {
   "cell_type": "code",
   "execution_count": null,
   "id": "f853d971-e185-4a3d-b8d0-ca10085fab13",
   "metadata": {},
   "outputs": [],
   "source": []
  },
  {
   "cell_type": "code",
   "execution_count": null,
   "id": "a67043f5-f0df-4043-ae67-8a085d7ee704",
   "metadata": {},
   "outputs": [],
   "source": []
  },
  {
   "cell_type": "code",
   "execution_count": null,
   "id": "faf89bca-505e-4397-85c5-363107f6a9d0",
   "metadata": {},
   "outputs": [],
   "source": []
  }
 ],
 "metadata": {
  "kernelspec": {
   "display_name": "Python 3 (ipykernel)",
   "language": "python",
   "name": "python3"
  },
  "language_info": {
   "codemirror_mode": {
    "name": "ipython",
    "version": 3
   },
   "file_extension": ".py",
   "mimetype": "text/x-python",
   "name": "python",
   "nbconvert_exporter": "python",
   "pygments_lexer": "ipython3",
   "version": "3.11.6"
  }
 },
 "nbformat": 4,
 "nbformat_minor": 5
}
